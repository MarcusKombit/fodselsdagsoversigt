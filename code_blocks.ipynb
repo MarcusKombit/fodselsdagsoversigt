{
 "cells": [
  {
   "cell_type": "code",
   "execution_count": null,
   "metadata": {},
   "outputs": [],
   "source": [
    "## Forsøg på function med dansk format\n",
    "\n",
    "// Funktion for at finde og vise fødselsdage i dag\n",
    "function showBirthdaysToday() {\n",
    "    const currentDate = new Date();\n",
    "    const today = currentDate.toLocaleDateString('da-DK').slice(0, 5);\n",
    "    const filteredEmployees = employees.filter(employee => employee.birthday === today);\n",
    "\n",
    "    if (filteredEmployees.length > 0) {\n",
    "        const names = filteredEmployees.map(employee => employee.name);\n",
    "        const birthdayText = `Følgende kollegaer har fødselsdag i dag:<br>${names.join(\"<br>\")}`;\n",
    "        document.getElementById(\"birthdayDisplay\").innerHTML = birthdayText;\n",
    "    } else {\n",
    "        document.getElementById(\"birthdayDisplay\").textContent = \"Ingen fødselsdag i dag. Hold øje med kommende fødselsdage nedenfor!\";\n",
    "    }\n",
    "}"
   ]
  },
  {
   "cell_type": "code",
   "execution_count": null,
   "metadata": {},
   "outputs": [],
   "source": [
    "# Gammelt engelsk format for upcoming:\n",
    "\n",
    "function showUpcomingBirthdaysByProject() {\n",
    "    const selectedProject = projectFilter.value;\n",
    "    const currentDate1 = new Date();\n",
    "    currentDate1.setDate(currentDate1.getDate() + 1); // Gå til næste dag\n",
    "    const oneWeekLater1 = new Date(currentDate1);\n",
    "    oneWeekLater1.setDate(oneWeekLater1.getDate() + 7);\n",
    "\n",
    "    const currentDate = currentDate1.toISOString().slice(5, 10);\n",
    "    const oneWeekLater = oneWeekLater1.toISOString().slice(5, 10);\n",
    "\n",
    "    const upcomingEmployees = employees.filter(employee => {\n",
    "        const birthdayDate = employee.birthday;\n",
    "        return (\n",
    "            birthdayDate >= currentDate &&\n",
    "            birthdayDate <= oneWeekLater &&\n",
    "            (selectedProject === \"alle\" || employee.project === selectedProject)\n",
    "        );\n",
    "    });"
   ]
  },
  {
   "cell_type": "code",
   "execution_count": null,
   "metadata": {},
   "outputs": [],
   "source": [
    "// Funktion for at vise kommende fødselsdage baseret på projektfilteret\n",
    "function showUpcomingBirthdaysByProject() {\n",
    "    const selectedProject = projectFilter.value;\n",
    "    const currentDate1 = new Date();\n",
    "    currentDate1.setDate(currentDate1.getDate() + 1); // Gå til næste dag\n",
    "    const oneWeekLater1 = new Date(currentDate1);\n",
    "    oneWeekLater1.setDate(oneWeekLater1.getDate() + 7);\n",
    "\n",
    "    const currentDate = currentDate1.toISOString().slice(8, 10).split('-').reverse().join('-');\n",
    "    const oneWeekLater = oneWeekLater1.toISOString().slice(8, 10).split('-').reverse().join('-'); \n",
    "\n",
    "    const upcomingEmployees = employees.filter(employee => {\n",
    "        const birthdayDate = employee.birthday;\n",
    "        return (\n",
    "            birthdayDate >= currentDate &&\n",
    "            birthdayDate <= oneWeekLater &&\n",
    "            (selectedProject === \"alle\" || employee.project === selectedProject)\n",
    "        );\n",
    "    });"
   ]
  },
  {
   "cell_type": "code",
   "execution_count": null,
   "metadata": {},
   "outputs": [],
   "source": [
    "function formatDateWithoutYear(dateString) {\n",
    "    const [year, month, day] = dateString.split('-').map(Number);\n",
    "    return `${day}-${month}`;\n",
    "}"
   ]
  }
 ],
 "metadata": {
  "language_info": {
   "name": "python"
  }
 },
 "nbformat": 4,
 "nbformat_minor": 2
}
